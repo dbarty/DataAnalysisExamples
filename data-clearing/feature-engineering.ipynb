{
 "cells": [
  {
   "cell_type": "code",
   "execution_count": 1,
   "id": "decb5668-2687-4b40-8855-0e00fad6ab3d",
   "metadata": {},
   "outputs": [
    {
     "name": "stdout",
     "output_type": "stream",
     "text": [
      "   names day_of_birth day_of_death  salery  age\n",
      "0  Peter   1970-01-12          NaT   55000   54\n",
      "1   Paul   1983-05-05          NaT   43000   41\n",
      "2   Mary   2000-03-17          NaT   52000   24\n",
      "3  Linda   1997-10-13          NaT   83500   27\n",
      "4   Erna   1920-05-13   2008-08-15       0   88\n"
     ]
    }
   ],
   "source": [
    "import pandas as pd\n",
    "import numpy as np\n",
    "from datetime import datetime\n",
    "\n",
    "# Datendefinition\n",
    "data = {\n",
    "    \"names\": [\"Peter\", \"Paul\", \"Mary\", \"Linda\", \"Erna\"],\n",
    "    \"day_of_birth\": [\"1970-01-12\", \"1983-05-05\", \"2000-03-17\", \"1997-10-13\", \"1920-05-13\"],\n",
    "    \"day_of_death\": [np.nan, np.nan, np.nan, np.nan, \"2008-08-15\"],\n",
    "    \"salery\": [55000, 43000, 52000, 83500, 0]\n",
    "}\n",
    "\n",
    "# DataFrame erstellen\n",
    "df = pd.DataFrame(data)\n",
    "\n",
    "# Konvertierung der Datumsfelder in datetime-Format\n",
    "df['day_of_birth'] = pd.to_datetime(df['day_of_birth'])\n",
    "df['day_of_death'] = pd.to_datetime(df['day_of_death'], errors='coerce')\n",
    "\n",
    "# Heutiges Datum\n",
    "today = pd.to_datetime(datetime.today().strftime('%Y-%m-%d'))\n",
    "\n",
    "# Berechnung der 'age'-Spalte\n",
    "df['age'] = ((df['day_of_death'].fillna(today) - df['day_of_birth']).dt.days / 365.25).astype(int)\n",
    "\n",
    "# Ausgabe des DataFrame\n",
    "print(df)"
   ]
  },
  {
   "cell_type": "code",
   "execution_count": null,
   "id": "82bc1a36-4ec6-4d8f-94cb-2dcfcaff0d18",
   "metadata": {},
   "outputs": [],
   "source": []
  }
 ],
 "metadata": {
  "kernelspec": {
   "display_name": "Python 3 (ipykernel)",
   "language": "python",
   "name": "python3"
  },
  "language_info": {
   "codemirror_mode": {
    "name": "ipython",
    "version": 3
   },
   "file_extension": ".py",
   "mimetype": "text/x-python",
   "name": "python",
   "nbconvert_exporter": "python",
   "pygments_lexer": "ipython3",
   "version": "3.12.7"
  }
 },
 "nbformat": 4,
 "nbformat_minor": 5
}
