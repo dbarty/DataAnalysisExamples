{
 "cells": [
  {
   "cell_type": "markdown",
   "id": "35b1ef31-f5e3-4592-af99-c1407340bcb6",
   "metadata": {},
   "source": [
    "# Data Clearing: Change Column Datatypes"
   ]
  },
  {
   "cell_type": "markdown",
   "id": "7b0fcf24-f4a2-43ba-8e97-eaaec8455c2f",
   "metadata": {},
   "source": [
    "## Import Modules"
   ]
  },
  {
   "cell_type": "code",
   "execution_count": 1,
   "id": "6b986f43-92aa-4f19-838a-d55cef89bc72",
   "metadata": {},
   "outputs": [],
   "source": [
    "import pandas as pd"
   ]
  },
  {
   "cell_type": "markdown",
   "id": "130e47a2-579b-411b-a87a-553a1fcc511b",
   "metadata": {},
   "source": [
    "## Prepare Data"
   ]
  },
  {
   "cell_type": "code",
   "execution_count": 11,
   "id": "b46afe2b-fa49-4264-b822-5f9c45252072",
   "metadata": {},
   "outputs": [
    {
     "data": {
      "text/html": [
       "<div>\n",
       "<style scoped>\n",
       "    .dataframe tbody tr th:only-of-type {\n",
       "        vertical-align: middle;\n",
       "    }\n",
       "\n",
       "    .dataframe tbody tr th {\n",
       "        vertical-align: top;\n",
       "    }\n",
       "\n",
       "    .dataframe thead th {\n",
       "        text-align: right;\n",
       "    }\n",
       "</style>\n",
       "<table border=\"1\" class=\"dataframe\">\n",
       "  <thead>\n",
       "    <tr style=\"text-align: right;\">\n",
       "      <th></th>\n",
       "      <th>date_of_birth</th>\n",
       "    </tr>\n",
       "  </thead>\n",
       "  <tbody>\n",
       "    <tr>\n",
       "      <th>0</th>\n",
       "      <td>2000-10-31</td>\n",
       "    </tr>\n",
       "    <tr>\n",
       "      <th>1</th>\n",
       "      <td>1975-03-25</td>\n",
       "    </tr>\n",
       "    <tr>\n",
       "      <th>2</th>\n",
       "      <td>1980-01-31</td>\n",
       "    </tr>\n",
       "  </tbody>\n",
       "</table>\n",
       "</div>"
      ],
      "text/plain": [
       "  date_of_birth\n",
       "0    2000-10-31\n",
       "1    1975-03-25\n",
       "2    1980-01-31"
      ]
     },
     "execution_count": 11,
     "metadata": {},
     "output_type": "execute_result"
    }
   ],
   "source": [
    "data = {\n",
    "    \"date_of_birth\": [\"2000-10-31\", \"1975-03-25\", \"1980-01-31\"]    \n",
    "}\n",
    "df = pd.DataFrame(data)\n",
    "df"
   ]
  },
  {
   "cell_type": "code",
   "execution_count": 12,
   "id": "c5b36ae9-1bf5-4030-be50-a67ac1653580",
   "metadata": {},
   "outputs": [
    {
     "name": "stdout",
     "output_type": "stream",
     "text": [
      "<class 'pandas.core.frame.DataFrame'>\n",
      "RangeIndex: 3 entries, 0 to 2\n",
      "Data columns (total 1 columns):\n",
      " #   Column         Non-Null Count  Dtype \n",
      "---  ------         --------------  ----- \n",
      " 0   date_of_birth  3 non-null      object\n",
      "dtypes: object(1)\n",
      "memory usage: 156.0+ bytes\n"
     ]
    }
   ],
   "source": [
    "df.info()"
   ]
  },
  {
   "cell_type": "markdown",
   "id": "c7a51a2b-ce8c-4b43-a48b-27f3329bc6a2",
   "metadata": {},
   "source": [
    "## Change DataTypes\n",
    "See: [to_datetime()](https://pandas.pydata.org/docs/reference/api/pandas.to_datetime.html)"
   ]
  },
  {
   "cell_type": "code",
   "execution_count": 13,
   "id": "83794ac1-8ac6-46c2-b021-87b4e9375e08",
   "metadata": {},
   "outputs": [
    {
     "name": "stdout",
     "output_type": "stream",
     "text": [
      "<class 'pandas.core.series.Series'>\n",
      "RangeIndex: 3 entries, 0 to 2\n",
      "Series name: date_of_birth\n",
      "Non-Null Count  Dtype         \n",
      "--------------  -----         \n",
      "3 non-null      datetime64[ns]\n",
      "dtypes: datetime64[ns](1)\n",
      "memory usage: 156.0 bytes\n"
     ]
    }
   ],
   "source": [
    "# convert all columns of DataFrame\n",
    "df = df[\"date_of_birth\"].apply(pd.to_datetime)\n",
    "\n",
    "#df = df.apply(pd.to_numeric) # convert all columns of DataFrame\n",
    "\n",
    "# convert just columns \"a\" and \"b\"\n",
    "#df[[\"a\", \"b\"]] = df[[\"a\", \"b\"]].apply(pd.to_numeric)\n",
    "\n",
    "df.info()"
   ]
  },
  {
   "cell_type": "markdown",
   "id": "9efcd0ec-2d5c-4f63-81c3-e3c949af2799",
   "metadata": {},
   "source": [
    "### Convert all columns"
   ]
  },
  {
   "cell_type": "code",
   "execution_count": 14,
   "id": "5c61c48c-51f0-43fd-8171-4066761b082d",
   "metadata": {},
   "outputs": [],
   "source": [
    "#df = df.apply(pd.to_numeric)"
   ]
  },
  {
   "cell_type": "code",
   "execution_count": null,
   "id": "245f0e6a-f588-4456-90bf-1fd55c722545",
   "metadata": {},
   "outputs": [],
   "source": []
  }
 ],
 "metadata": {
  "kernelspec": {
   "display_name": "Python 3 (ipykernel)",
   "language": "python",
   "name": "python3"
  },
  "language_info": {
   "codemirror_mode": {
    "name": "ipython",
    "version": 3
   },
   "file_extension": ".py",
   "mimetype": "text/x-python",
   "name": "python",
   "nbconvert_exporter": "python",
   "pygments_lexer": "ipython3",
   "version": "3.12.7"
  }
 },
 "nbformat": 4,
 "nbformat_minor": 5
}
