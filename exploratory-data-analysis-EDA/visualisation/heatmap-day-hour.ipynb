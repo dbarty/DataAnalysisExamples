{
 "cells": [
  {
   "cell_type": "code",
   "execution_count": null,
   "id": "75c2c17b-12ff-4bd5-92bb-cf6beed6b8a0",
   "metadata": {},
   "outputs": [],
   "source": []
  },
  {
   "cell_type": "markdown",
   "id": "c0947dcf-68db-454f-a4d5-0ae52d22d8bf",
   "metadata": {},
   "source": [
    "## Import Modules"
   ]
  },
  {
   "cell_type": "code",
   "execution_count": 1,
   "id": "d423280b-14b9-457f-a604-74a56748a44a",
   "metadata": {},
   "outputs": [],
   "source": [
    "import seaborn as sns"
   ]
  },
  {
   "cell_type": "markdown",
   "id": "4acc40a4-0c6f-4ce2-871e-64099558b517",
   "metadata": {},
   "source": [
    "## Prepare Data"
   ]
  },
  {
   "cell_type": "code",
   "execution_count": 51,
   "id": "042163d5-9635-4353-a29d-fab679acfa05",
   "metadata": {},
   "outputs": [
    {
     "data": {
      "text/html": [
       "<div>\n",
       "<style scoped>\n",
       "    .dataframe tbody tr th:only-of-type {\n",
       "        vertical-align: middle;\n",
       "    }\n",
       "\n",
       "    .dataframe tbody tr th {\n",
       "        vertical-align: top;\n",
       "    }\n",
       "\n",
       "    .dataframe thead th {\n",
       "        text-align: right;\n",
       "    }\n",
       "</style>\n",
       "<table border=\"1\" class=\"dataframe\">\n",
       "  <thead>\n",
       "    <tr style=\"text-align: right;\">\n",
       "      <th></th>\n",
       "      <th>pickup</th>\n",
       "      <th>dropoff</th>\n",
       "      <th>passengers</th>\n",
       "      <th>distance</th>\n",
       "      <th>fare</th>\n",
       "      <th>tip</th>\n",
       "      <th>tolls</th>\n",
       "      <th>total</th>\n",
       "      <th>color</th>\n",
       "      <th>payment</th>\n",
       "      <th>pickup_zone</th>\n",
       "      <th>dropoff_zone</th>\n",
       "      <th>pickup_borough</th>\n",
       "      <th>dropoff_borough</th>\n",
       "    </tr>\n",
       "  </thead>\n",
       "  <tbody>\n",
       "    <tr>\n",
       "      <th>1800</th>\n",
       "      <td>2019-03-09 20:45:37</td>\n",
       "      <td>2019-03-09 20:52:24</td>\n",
       "      <td>6</td>\n",
       "      <td>1.15</td>\n",
       "      <td>6.5</td>\n",
       "      <td>2.06</td>\n",
       "      <td>0.00</td>\n",
       "      <td>12.36</td>\n",
       "      <td>yellow</td>\n",
       "      <td>credit card</td>\n",
       "      <td>Kips Bay</td>\n",
       "      <td>East Village</td>\n",
       "      <td>Manhattan</td>\n",
       "      <td>Manhattan</td>\n",
       "    </tr>\n",
       "    <tr>\n",
       "      <th>5949</th>\n",
       "      <td>2019-03-21 04:42:25</td>\n",
       "      <td>2019-03-21 05:05:57</td>\n",
       "      <td>1</td>\n",
       "      <td>8.20</td>\n",
       "      <td>26.0</td>\n",
       "      <td>0.00</td>\n",
       "      <td>4.75</td>\n",
       "      <td>34.80</td>\n",
       "      <td>green</td>\n",
       "      <td>cash</td>\n",
       "      <td>Jackson Heights</td>\n",
       "      <td>West Chelsea/Hudson Yards</td>\n",
       "      <td>Queens</td>\n",
       "      <td>Manhattan</td>\n",
       "    </tr>\n",
       "    <tr>\n",
       "      <th>936</th>\n",
       "      <td>2019-03-19 07:23:39</td>\n",
       "      <td>2019-03-19 07:32:59</td>\n",
       "      <td>1</td>\n",
       "      <td>1.30</td>\n",
       "      <td>8.0</td>\n",
       "      <td>0.00</td>\n",
       "      <td>0.00</td>\n",
       "      <td>11.30</td>\n",
       "      <td>yellow</td>\n",
       "      <td>cash</td>\n",
       "      <td>Midtown East</td>\n",
       "      <td>East Chelsea</td>\n",
       "      <td>Manhattan</td>\n",
       "      <td>Manhattan</td>\n",
       "    </tr>\n",
       "  </tbody>\n",
       "</table>\n",
       "</div>"
      ],
      "text/plain": [
       "                  pickup             dropoff  passengers  distance  fare  \\\n",
       "1800 2019-03-09 20:45:37 2019-03-09 20:52:24           6      1.15   6.5   \n",
       "5949 2019-03-21 04:42:25 2019-03-21 05:05:57           1      8.20  26.0   \n",
       "936  2019-03-19 07:23:39 2019-03-19 07:32:59           1      1.30   8.0   \n",
       "\n",
       "       tip  tolls  total   color      payment      pickup_zone  \\\n",
       "1800  2.06   0.00  12.36  yellow  credit card         Kips Bay   \n",
       "5949  0.00   4.75  34.80   green         cash  Jackson Heights   \n",
       "936   0.00   0.00  11.30  yellow         cash     Midtown East   \n",
       "\n",
       "                   dropoff_zone pickup_borough dropoff_borough  \n",
       "1800               East Village      Manhattan       Manhattan  \n",
       "5949  West Chelsea/Hudson Yards         Queens       Manhattan  \n",
       "936                East Chelsea      Manhattan       Manhattan  "
      ]
     },
     "execution_count": 51,
     "metadata": {},
     "output_type": "execute_result"
    }
   ],
   "source": [
    "# https://github.com/mwaskom/seaborn-data/blob/master/taxis.csv\n",
    "df = sns.load_dataset(\"taxis\")\n",
    "df.sample(3)"
   ]
  },
  {
   "cell_type": "markdown",
   "id": "1538963f-ed37-4e17-80ee-969c7a759072",
   "metadata": {},
   "source": [
    "### Copy what we need and expand the data"
   ]
  },
  {
   "cell_type": "code",
   "execution_count": 52,
   "id": "b0d0eac1-7cf5-44fb-8e11-c2a7297b39ac",
   "metadata": {},
   "outputs": [
    {
     "data": {
      "text/html": [
       "<div>\n",
       "<style scoped>\n",
       "    .dataframe tbody tr th:only-of-type {\n",
       "        vertical-align: middle;\n",
       "    }\n",
       "\n",
       "    .dataframe tbody tr th {\n",
       "        vertical-align: top;\n",
       "    }\n",
       "\n",
       "    .dataframe thead th {\n",
       "        text-align: right;\n",
       "    }\n",
       "</style>\n",
       "<table border=\"1\" class=\"dataframe\">\n",
       "  <thead>\n",
       "    <tr style=\"text-align: right;\">\n",
       "      <th></th>\n",
       "      <th>dropoff</th>\n",
       "      <th>hour</th>\n",
       "      <th>weekday_index</th>\n",
       "      <th>weekday_name</th>\n",
       "    </tr>\n",
       "  </thead>\n",
       "  <tbody>\n",
       "    <tr>\n",
       "      <th>3284</th>\n",
       "      <td>2019-03-01 17:02:03</td>\n",
       "      <td>17</td>\n",
       "      <td>4</td>\n",
       "      <td>Friday</td>\n",
       "    </tr>\n",
       "    <tr>\n",
       "      <th>1480</th>\n",
       "      <td>2019-03-23 13:57:15</td>\n",
       "      <td>13</td>\n",
       "      <td>5</td>\n",
       "      <td>Saturday</td>\n",
       "    </tr>\n",
       "    <tr>\n",
       "      <th>4725</th>\n",
       "      <td>2019-03-02 09:47:25</td>\n",
       "      <td>9</td>\n",
       "      <td>5</td>\n",
       "      <td>Saturday</td>\n",
       "    </tr>\n",
       "  </tbody>\n",
       "</table>\n",
       "</div>"
      ],
      "text/plain": [
       "                 dropoff  hour  weekday_index weekday_name\n",
       "3284 2019-03-01 17:02:03    17              4       Friday\n",
       "1480 2019-03-23 13:57:15    13              5     Saturday\n",
       "4725 2019-03-02 09:47:25     9              5     Saturday"
      ]
     },
     "execution_count": 52,
     "metadata": {},
     "output_type": "execute_result"
    }
   ],
   "source": [
    "df = df[[\"dropoff\"]]\n",
    "df['hour'] = df['dropoff'].dt.hour\n",
    "df['weekday_index'] = df['dropoff'].dt.dayofweek  # (0=Monday, 6=Sunday)\n",
    "df['weekday_name'] = df['dropoff'].dt.day_name()\n",
    "df.sample(3)"
   ]
  },
  {
   "cell_type": "code",
   "execution_count": 53,
   "id": "d30e32db-11f2-4746-8521-9203f019c8d2",
   "metadata": {},
   "outputs": [
    {
     "data": {
      "text/plain": [
       "<Axes: xlabel='day', ylabel='hour'>"
      ]
     },
     "execution_count": 53,
     "metadata": {},
     "output_type": "execute_result"
    },
    {
     "data": {
      "image/png": "[encoded data removed]",
      "text/plain": [
       "<Figure size 640x480 with 2 Axes>"
      ]
     },
     "metadata": {},
     "output_type": "display_data"
    }
   ],
   "source": [
    "sns.heatmap(df.groupby([df.weekday_name, df.hour])\n",
    "   ['dropoff'].count()\n",
    "   .rename_axis(index=['day','hour'])\n",
    "   .unstack(level=0)\n",
    ")"
   ]
  }
 ],
 "metadata": {
  "kernelspec": {
   "display_name": "Python 3 (ipykernel)",
   "language": "python",
   "name": "python3"
  },
  "language_info": {
   "codemirror_mode": {
    "name": "ipython",
    "version": 3
   },
   "file_extension": ".py",
   "mimetype": "text/x-python",
   "name": "python",
   "nbconvert_exporter": "python",
   "pygments_lexer": "ipython3",
   "version": "3.12.7"
  }
 },
 "nbformat": 4,
 "nbformat_minor": 5
}
