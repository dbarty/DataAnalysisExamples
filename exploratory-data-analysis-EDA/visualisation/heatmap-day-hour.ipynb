{
 "cells": [
  {
   "cell_type": "markdown",
   "id": "d414112a-af36-43fa-8ba8-8b573de7f022",
   "metadata": {},
   "source": [
    "# EDA-Visualisation: Heatmap Day Hour "
   ]
  },
  {
   "cell_type": "markdown",
   "id": "c0947dcf-68db-454f-a4d5-0ae52d22d8bf",
   "metadata": {},
   "source": [
    "## Import Modules"
   ]
  },
  {
   "cell_type": "code",
   "execution_count": 3,
   "id": "d423280b-14b9-457f-a604-74a56748a44a",
   "metadata": {},
   "outputs": [],
   "source": [
    "import seaborn as sns"
   ]
  },
  {
   "cell_type": "markdown",
   "id": "4acc40a4-0c6f-4ce2-871e-64099558b517",
   "metadata": {},
   "source": [
    "## Prepare Data"
   ]
  },
  {
   "cell_type": "code",
   "execution_count": 4,
   "id": "042163d5-9635-4353-a29d-fab679acfa05",
   "metadata": {},
   "outputs": [
    {
     "data": {
      "text/html": [
       "<div>\n",
       "<style scoped>\n",
       "    .dataframe tbody tr th:only-of-type {\n",
       "        vertical-align: middle;\n",
       "    }\n",
       "\n",
       "    .dataframe tbody tr th {\n",
       "        vertical-align: top;\n",
       "    }\n",
       "\n",
       "    .dataframe thead th {\n",
       "        text-align: right;\n",
       "    }\n",
       "</style>\n",
       "<table border=\"1\" class=\"dataframe\">\n",
       "  <thead>\n",
       "    <tr style=\"text-align: right;\">\n",
       "      <th></th>\n",
       "      <th>pickup</th>\n",
       "      <th>dropoff</th>\n",
       "      <th>passengers</th>\n",
       "      <th>distance</th>\n",
       "      <th>fare</th>\n",
       "      <th>tip</th>\n",
       "      <th>tolls</th>\n",
       "      <th>total</th>\n",
       "      <th>color</th>\n",
       "      <th>payment</th>\n",
       "      <th>pickup_zone</th>\n",
       "      <th>dropoff_zone</th>\n",
       "      <th>pickup_borough</th>\n",
       "      <th>dropoff_borough</th>\n",
       "    </tr>\n",
       "  </thead>\n",
       "  <tbody>\n",
       "    <tr>\n",
       "      <th>1282</th>\n",
       "      <td>2019-03-25 18:12:38</td>\n",
       "      <td>2019-03-25 18:18:19</td>\n",
       "      <td>1</td>\n",
       "      <td>0.73</td>\n",
       "      <td>5.5</td>\n",
       "      <td>1.96</td>\n",
       "      <td>0.0</td>\n",
       "      <td>11.76</td>\n",
       "      <td>yellow</td>\n",
       "      <td>credit card</td>\n",
       "      <td>Union Sq</td>\n",
       "      <td>Murray Hill</td>\n",
       "      <td>Manhattan</td>\n",
       "      <td>Manhattan</td>\n",
       "    </tr>\n",
       "    <tr>\n",
       "      <th>4217</th>\n",
       "      <td>2019-03-14 16:01:29</td>\n",
       "      <td>2019-03-14 16:17:17</td>\n",
       "      <td>6</td>\n",
       "      <td>2.01</td>\n",
       "      <td>11.5</td>\n",
       "      <td>2.37</td>\n",
       "      <td>0.0</td>\n",
       "      <td>18.17</td>\n",
       "      <td>yellow</td>\n",
       "      <td>credit card</td>\n",
       "      <td>Clinton East</td>\n",
       "      <td>Gramercy</td>\n",
       "      <td>Manhattan</td>\n",
       "      <td>Manhattan</td>\n",
       "    </tr>\n",
       "    <tr>\n",
       "      <th>1341</th>\n",
       "      <td>2019-03-09 19:43:50</td>\n",
       "      <td>2019-03-09 20:46:12</td>\n",
       "      <td>1</td>\n",
       "      <td>7.06</td>\n",
       "      <td>39.0</td>\n",
       "      <td>4.00</td>\n",
       "      <td>0.0</td>\n",
       "      <td>46.30</td>\n",
       "      <td>yellow</td>\n",
       "      <td>credit card</td>\n",
       "      <td>Williamsburg (South Side)</td>\n",
       "      <td>Clinton West</td>\n",
       "      <td>Brooklyn</td>\n",
       "      <td>Manhattan</td>\n",
       "    </tr>\n",
       "  </tbody>\n",
       "</table>\n",
       "</div>"
      ],
      "text/plain": [
       "                  pickup             dropoff  passengers  distance  fare  \\\n",
       "1282 2019-03-25 18:12:38 2019-03-25 18:18:19           1      0.73   5.5   \n",
       "4217 2019-03-14 16:01:29 2019-03-14 16:17:17           6      2.01  11.5   \n",
       "1341 2019-03-09 19:43:50 2019-03-09 20:46:12           1      7.06  39.0   \n",
       "\n",
       "       tip  tolls  total   color      payment                pickup_zone  \\\n",
       "1282  1.96    0.0  11.76  yellow  credit card                   Union Sq   \n",
       "4217  2.37    0.0  18.17  yellow  credit card               Clinton East   \n",
       "1341  4.00    0.0  46.30  yellow  credit card  Williamsburg (South Side)   \n",
       "\n",
       "      dropoff_zone pickup_borough dropoff_borough  \n",
       "1282   Murray Hill      Manhattan       Manhattan  \n",
       "4217      Gramercy      Manhattan       Manhattan  \n",
       "1341  Clinton West       Brooklyn       Manhattan  "
      ]
     },
     "execution_count": 4,
     "metadata": {},
     "output_type": "execute_result"
    }
   ],
   "source": [
    "# https://github.com/mwaskom/seaborn-data/blob/master/taxis.csv\n",
    "df = sns.load_dataset(\"taxis\")\n",
    "df.sample(3)"
   ]
  },
  {
   "cell_type": "markdown",
   "id": "1538963f-ed37-4e17-80ee-969c7a759072",
   "metadata": {},
   "source": [
    "### Copy what we need and expand the data"
   ]
  },
  {
   "cell_type": "code",
   "execution_count": 5,
   "id": "b0d0eac1-7cf5-44fb-8e11-c2a7297b39ac",
   "metadata": {},
   "outputs": [
    {
     "data": {
      "text/html": [
       "<div>\n",
       "<style scoped>\n",
       "    .dataframe tbody tr th:only-of-type {\n",
       "        vertical-align: middle;\n",
       "    }\n",
       "\n",
       "    .dataframe tbody tr th {\n",
       "        vertical-align: top;\n",
       "    }\n",
       "\n",
       "    .dataframe thead th {\n",
       "        text-align: right;\n",
       "    }\n",
       "</style>\n",
       "<table border=\"1\" class=\"dataframe\">\n",
       "  <thead>\n",
       "    <tr style=\"text-align: right;\">\n",
       "      <th></th>\n",
       "      <th>dropoff</th>\n",
       "      <th>hour</th>\n",
       "      <th>weekday_index</th>\n",
       "      <th>weekday_name</th>\n",
       "    </tr>\n",
       "  </thead>\n",
       "  <tbody>\n",
       "    <tr>\n",
       "      <th>5900</th>\n",
       "      <td>2019-03-14 01:49:58</td>\n",
       "      <td>1</td>\n",
       "      <td>3</td>\n",
       "      <td>Thursday</td>\n",
       "    </tr>\n",
       "    <tr>\n",
       "      <th>5637</th>\n",
       "      <td>2019-03-21 20:21:46</td>\n",
       "      <td>20</td>\n",
       "      <td>3</td>\n",
       "      <td>Thursday</td>\n",
       "    </tr>\n",
       "    <tr>\n",
       "      <th>2254</th>\n",
       "      <td>2019-03-03 18:39:57</td>\n",
       "      <td>18</td>\n",
       "      <td>6</td>\n",
       "      <td>Sunday</td>\n",
       "    </tr>\n",
       "  </tbody>\n",
       "</table>\n",
       "</div>"
      ],
      "text/plain": [
       "                 dropoff  hour  weekday_index weekday_name\n",
       "5900 2019-03-14 01:49:58     1              3     Thursday\n",
       "5637 2019-03-21 20:21:46    20              3     Thursday\n",
       "2254 2019-03-03 18:39:57    18              6       Sunday"
      ]
     },
     "execution_count": 5,
     "metadata": {},
     "output_type": "execute_result"
    }
   ],
   "source": [
    "df = df[[\"dropoff\"]]\n",
    "df['hour'] = df['dropoff'].dt.hour\n",
    "df['weekday_index'] = df['dropoff'].dt.dayofweek  # (0=Monday, 6=Sunday)\n",
    "df['weekday_name'] = df['dropoff'].dt.day_name()\n",
    "df.sample(3)"
   ]
  },
  {
   "cell_type": "code",
   "execution_count": 6,
   "id": "d30e32db-11f2-4746-8521-9203f019c8d2",
   "metadata": {},
   "outputs": [
    {
     "data": {
      "text/plain": [
       "<Axes: xlabel='day', ylabel='hour'>"
      ]
     },
     "execution_count": 6,
     "metadata": {},
     "output_type": "execute_result"
    },
    {
     "data": {
      "image/png": "[encoded data removed]",
      "text/plain": [
       "<Figure size 640x480 with 2 Axes>"
      ]
     },
     "metadata": {},
     "output_type": "display_data"
    }
   ],
   "source": [
    "sns.heatmap(df.groupby([df.weekday_name, df.hour])\n",
    "   ['dropoff'].count()\n",
    "   .rename_axis(index=['day','hour'])\n",
    "   .unstack(level=0),\n",
    "    cmap=\"coolwarm\"\n",
    ")"
   ]
  },
  {
   "cell_type": "code",
   "execution_count": null,
   "id": "4d2c4cde-3fbd-4681-a37f-1e9ac673314f",
   "metadata": {},
   "outputs": [],
   "source": []
  }
 ],
 "metadata": {
  "kernelspec": {
   "display_name": "Python 3 (ipykernel)",
   "language": "python",
   "name": "python3"
  },
  "language_info": {
   "codemirror_mode": {
    "name": "ipython",
    "version": 3
   },
   "file_extension": ".py",
   "mimetype": "text/x-python",
   "name": "python",
   "nbconvert_exporter": "python",
   "pygments_lexer": "ipython3",
   "version": "3.12.7"
  }
 },
 "nbformat": 4,
 "nbformat_minor": 5
}
