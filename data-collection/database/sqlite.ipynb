{
 "cells": [
  {
   "cell_type": "markdown",
   "id": "23a70e84-8b36-421d-8928-f80ec448d6d5",
   "metadata": {},
   "source": [
    "# Data Collection: SQLite Database"
   ]
  },
  {
   "cell_type": "markdown",
   "id": "b6efd461-359d-46b0-973f-28743bdadafe",
   "metadata": {},
   "source": [
    "## Import modules"
   ]
  },
  {
   "cell_type": "code",
   "execution_count": 1,
   "id": "dd43acd8-c1bf-446c-b8c5-331251d5d893",
   "metadata": {},
   "outputs": [],
   "source": [
    "import numpy as np\n",
    "import pandas as pd\n",
    "import sqlite3"
   ]
  },
  {
   "cell_type": "markdown",
   "id": "c516d326-2cc7-4a3a-ad9a-404ca3bedb28",
   "metadata": {},
   "source": [
    "## Prepare Data"
   ]
  },
  {
   "cell_type": "code",
   "execution_count": 2,
   "id": "43409000-6838-43ae-bb9e-5fd8619b9761",
   "metadata": {},
   "outputs": [],
   "source": [
    "groups = [\"Family\", \"Friend\", \"Colleague\", \"Neighbor\"]\n",
    "\n",
    "people = [\n",
    "    (1, 1, \"Anna\", 42, 45850.75), (2, 1, \"Peter\", 40, 42500), (3, 1, \"Linda\", 45, 55500.50),\n",
    "    (4, 2, \"Mark\", 47, 35800.00), (5, 2, \"Steffi\", 38, 51367), (6, 2, \"Lars\", 50, 57500.50), \n",
    "    (7, 3, \"Bernd\", 50, 48000.00), (8, 3, \"Petra\", 43, 57350), (9, 3, \"Sabine\", 49, 47200),\n",
    "    (10, 4, \"Lotte\", 41, 45500), (11, 4, \"Gunter\", 60, 35400), (12, 4, \"Rene\", 38, 51500),\n",
    "]"
   ]
  },
  {
   "cell_type": "markdown",
   "id": "d3dfd4a6-7dc1-4c45-9cc2-8a5e75898988",
   "metadata": {},
   "source": [
    "## Connect to database and create a cursor object"
   ]
  },
  {
   "cell_type": "code",
   "execution_count": 3,
   "id": "425e6a21-b4ac-4fc2-aefa-e04d40f1e37e",
   "metadata": {},
   "outputs": [],
   "source": [
    "#con = sqlite3.connect(\"my_database.db\")  # Creates a file\n",
    "# or\n",
    "con = sqlite3.connect(\":memory:\")  # is only in memory and nor persistent\n",
    "cursor = con.cursor()  # create a cursor object"
   ]
  },
  {
   "cell_type": "markdown",
   "id": "0aeecf11-6431-4f5b-903d-787b74a93404",
   "metadata": {},
   "source": [
    "## Create tables"
   ]
  },
  {
   "cell_type": "code",
   "execution_count": 6,
   "id": "77c49e23-b2c4-498f-a859-2762c8bbc80c",
   "metadata": {},
   "outputs": [
    {
     "data": {
      "text/plain": [
       "<sqlite3.Cursor at 0x1ca1e03ee40>"
      ]
     },
     "execution_count": 6,
     "metadata": {},
     "output_type": "execute_result"
    }
   ],
   "source": [
    "# create table people\n",
    "sql = \"\"\"CREATE TABLE IF NOT EXISTS people (\n",
    "  id INTEGER PRIMARY KEY, \n",
    "  group_id INTEGER NOT NULL,\n",
    "  name TEXT,\n",
    "  age INTEGER,\n",
    "  salery REAL\n",
    ")\"\"\"\n",
    "cursor.execute(sql)\n",
    "\n",
    "# create table group\n",
    "sql = \"\"\"CREATE TABLE IF NOT EXISTS groups (\n",
    "  id INTEGER PRIMARY KEY,\n",
    "  name TEXT\n",
    ")\"\"\"\n",
    "cursor.execute(sql)"
   ]
  },
  {
   "cell_type": "markdown",
   "id": "2529e27d-1fb7-4a9a-8742-67b754a98c11",
   "metadata": {},
   "source": [
    "## List all tables in database"
   ]
  },
  {
   "cell_type": "code",
   "execution_count": 11,
   "id": "aea24087-63f5-4ecc-a7bc-23043bf7e6bd",
   "metadata": {},
   "outputs": [
    {
     "data": {
      "text/plain": [
       "[('people',), ('groups',)]"
      ]
     },
     "execution_count": 11,
     "metadata": {},
     "output_type": "execute_result"
    }
   ],
   "source": [
    "tables = cursor.execute(\"SELECT name FROM sqlite_master WHERE type='table';\").fetchall()\n",
    "tables"
   ]
  },
  {
   "cell_type": "markdown",
   "id": "5522c8a3-a1a4-4ea4-98a3-29ea11a35a2f",
   "metadata": {},
   "source": [
    "## Insert some Data"
   ]
  },
  {
   "cell_type": "code",
   "execution_count": 12,
   "id": "82dd7e35-a9b7-4e09-8eb8-75c2d7e11fb0",
   "metadata": {},
   "outputs": [],
   "source": [
    "# insert groups\n",
    "for group in enumerate(groups, 1):\n",
    "    cursor.execute(\"INSERT INTO groups VALUES(?,?)\", group)\n",
    "\n",
    "# insert people\n",
    "for person in people:\n",
    "    cursor.execute(\"INSERT INTO people VALUES(?,?,?,?,?)\", person)"
   ]
  },
  {
   "cell_type": "markdown",
   "id": "ca198159-35fd-4cc4-9764-6edf82e6f37e",
   "metadata": {},
   "source": [
    "## Query all people"
   ]
  },
  {
   "cell_type": "code",
   "execution_count": 13,
   "id": "3f05c503-713c-40ce-8ede-4990450b307a",
   "metadata": {},
   "outputs": [
    {
     "data": {
      "text/html": [
       "<div>\n",
       "<style scoped>\n",
       "    .dataframe tbody tr th:only-of-type {\n",
       "        vertical-align: middle;\n",
       "    }\n",
       "\n",
       "    .dataframe tbody tr th {\n",
       "        vertical-align: top;\n",
       "    }\n",
       "\n",
       "    .dataframe thead th {\n",
       "        text-align: right;\n",
       "    }\n",
       "</style>\n",
       "<table border=\"1\" class=\"dataframe\">\n",
       "  <thead>\n",
       "    <tr style=\"text-align: right;\">\n",
       "      <th></th>\n",
       "      <th>id</th>\n",
       "      <th>group_id</th>\n",
       "      <th>name</th>\n",
       "      <th>age</th>\n",
       "      <th>salery</th>\n",
       "    </tr>\n",
       "  </thead>\n",
       "  <tbody>\n",
       "    <tr>\n",
       "      <th>0</th>\n",
       "      <td>1</td>\n",
       "      <td>1</td>\n",
       "      <td>Anna</td>\n",
       "      <td>42</td>\n",
       "      <td>45850.75</td>\n",
       "    </tr>\n",
       "    <tr>\n",
       "      <th>1</th>\n",
       "      <td>2</td>\n",
       "      <td>1</td>\n",
       "      <td>Peter</td>\n",
       "      <td>40</td>\n",
       "      <td>42500.00</td>\n",
       "    </tr>\n",
       "    <tr>\n",
       "      <th>2</th>\n",
       "      <td>3</td>\n",
       "      <td>1</td>\n",
       "      <td>Linda</td>\n",
       "      <td>45</td>\n",
       "      <td>55500.50</td>\n",
       "    </tr>\n",
       "    <tr>\n",
       "      <th>3</th>\n",
       "      <td>4</td>\n",
       "      <td>2</td>\n",
       "      <td>Mark</td>\n",
       "      <td>47</td>\n",
       "      <td>35800.00</td>\n",
       "    </tr>\n",
       "    <tr>\n",
       "      <th>4</th>\n",
       "      <td>5</td>\n",
       "      <td>2</td>\n",
       "      <td>Steffi</td>\n",
       "      <td>38</td>\n",
       "      <td>51367.00</td>\n",
       "    </tr>\n",
       "    <tr>\n",
       "      <th>5</th>\n",
       "      <td>6</td>\n",
       "      <td>2</td>\n",
       "      <td>Lars</td>\n",
       "      <td>50</td>\n",
       "      <td>57500.50</td>\n",
       "    </tr>\n",
       "    <tr>\n",
       "      <th>6</th>\n",
       "      <td>7</td>\n",
       "      <td>3</td>\n",
       "      <td>Bernd</td>\n",
       "      <td>50</td>\n",
       "      <td>48000.00</td>\n",
       "    </tr>\n",
       "    <tr>\n",
       "      <th>7</th>\n",
       "      <td>8</td>\n",
       "      <td>3</td>\n",
       "      <td>Petra</td>\n",
       "      <td>43</td>\n",
       "      <td>57350.00</td>\n",
       "    </tr>\n",
       "    <tr>\n",
       "      <th>8</th>\n",
       "      <td>9</td>\n",
       "      <td>3</td>\n",
       "      <td>Sabine</td>\n",
       "      <td>49</td>\n",
       "      <td>47200.00</td>\n",
       "    </tr>\n",
       "    <tr>\n",
       "      <th>9</th>\n",
       "      <td>10</td>\n",
       "      <td>4</td>\n",
       "      <td>Lotte</td>\n",
       "      <td>41</td>\n",
       "      <td>45500.00</td>\n",
       "    </tr>\n",
       "    <tr>\n",
       "      <th>10</th>\n",
       "      <td>11</td>\n",
       "      <td>4</td>\n",
       "      <td>Gunter</td>\n",
       "      <td>60</td>\n",
       "      <td>35400.00</td>\n",
       "    </tr>\n",
       "    <tr>\n",
       "      <th>11</th>\n",
       "      <td>12</td>\n",
       "      <td>4</td>\n",
       "      <td>Rene</td>\n",
       "      <td>38</td>\n",
       "      <td>51500.00</td>\n",
       "    </tr>\n",
       "  </tbody>\n",
       "</table>\n",
       "</div>"
      ],
      "text/plain": [
       "    id  group_id    name  age    salery\n",
       "0    1         1    Anna   42  45850.75\n",
       "1    2         1   Peter   40  42500.00\n",
       "2    3         1   Linda   45  55500.50\n",
       "3    4         2    Mark   47  35800.00\n",
       "4    5         2  Steffi   38  51367.00\n",
       "5    6         2    Lars   50  57500.50\n",
       "6    7         3   Bernd   50  48000.00\n",
       "7    8         3   Petra   43  57350.00\n",
       "8    9         3  Sabine   49  47200.00\n",
       "9   10         4   Lotte   41  45500.00\n",
       "10  11         4  Gunter   60  35400.00\n",
       "11  12         4    Rene   38  51500.00"
      ]
     },
     "execution_count": 13,
     "metadata": {},
     "output_type": "execute_result"
    }
   ],
   "source": [
    "df = pd.read_sql_query(f\"SELECT * FROM people\", con)\n",
    "df"
   ]
  },
  {
   "cell_type": "markdown",
   "id": "618266ae-eaaf-4650-aa44-5d7266f79666",
   "metadata": {},
   "source": [
    "## Joined query"
   ]
  },
  {
   "cell_type": "code",
   "execution_count": 15,
   "id": "6535534f-ab52-4b39-8a3e-d133d26aa050",
   "metadata": {},
   "outputs": [
    {
     "data": {
      "text/html": [
       "<div>\n",
       "<style scoped>\n",
       "    .dataframe tbody tr th:only-of-type {\n",
       "        vertical-align: middle;\n",
       "    }\n",
       "\n",
       "    .dataframe tbody tr th {\n",
       "        vertical-align: top;\n",
       "    }\n",
       "\n",
       "    .dataframe thead th {\n",
       "        text-align: right;\n",
       "    }\n",
       "</style>\n",
       "<table border=\"1\" class=\"dataframe\">\n",
       "  <thead>\n",
       "    <tr style=\"text-align: right;\">\n",
       "      <th></th>\n",
       "      <th>id</th>\n",
       "      <th>group_id</th>\n",
       "      <th>name</th>\n",
       "      <th>age</th>\n",
       "      <th>salery</th>\n",
       "      <th>id</th>\n",
       "      <th>name</th>\n",
       "    </tr>\n",
       "  </thead>\n",
       "  <tbody>\n",
       "    <tr>\n",
       "      <th>0</th>\n",
       "      <td>1</td>\n",
       "      <td>1</td>\n",
       "      <td>Anna</td>\n",
       "      <td>42</td>\n",
       "      <td>45850.75</td>\n",
       "      <td>1</td>\n",
       "      <td>Family</td>\n",
       "    </tr>\n",
       "    <tr>\n",
       "      <th>1</th>\n",
       "      <td>2</td>\n",
       "      <td>1</td>\n",
       "      <td>Peter</td>\n",
       "      <td>40</td>\n",
       "      <td>42500.00</td>\n",
       "      <td>1</td>\n",
       "      <td>Family</td>\n",
       "    </tr>\n",
       "    <tr>\n",
       "      <th>2</th>\n",
       "      <td>3</td>\n",
       "      <td>1</td>\n",
       "      <td>Linda</td>\n",
       "      <td>45</td>\n",
       "      <td>55500.50</td>\n",
       "      <td>1</td>\n",
       "      <td>Family</td>\n",
       "    </tr>\n",
       "    <tr>\n",
       "      <th>3</th>\n",
       "      <td>4</td>\n",
       "      <td>2</td>\n",
       "      <td>Mark</td>\n",
       "      <td>47</td>\n",
       "      <td>35800.00</td>\n",
       "      <td>2</td>\n",
       "      <td>Friend</td>\n",
       "    </tr>\n",
       "    <tr>\n",
       "      <th>4</th>\n",
       "      <td>5</td>\n",
       "      <td>2</td>\n",
       "      <td>Steffi</td>\n",
       "      <td>38</td>\n",
       "      <td>51367.00</td>\n",
       "      <td>2</td>\n",
       "      <td>Friend</td>\n",
       "    </tr>\n",
       "    <tr>\n",
       "      <th>5</th>\n",
       "      <td>6</td>\n",
       "      <td>2</td>\n",
       "      <td>Lars</td>\n",
       "      <td>50</td>\n",
       "      <td>57500.50</td>\n",
       "      <td>2</td>\n",
       "      <td>Friend</td>\n",
       "    </tr>\n",
       "    <tr>\n",
       "      <th>6</th>\n",
       "      <td>7</td>\n",
       "      <td>3</td>\n",
       "      <td>Bernd</td>\n",
       "      <td>50</td>\n",
       "      <td>48000.00</td>\n",
       "      <td>3</td>\n",
       "      <td>Colleague</td>\n",
       "    </tr>\n",
       "    <tr>\n",
       "      <th>7</th>\n",
       "      <td>8</td>\n",
       "      <td>3</td>\n",
       "      <td>Petra</td>\n",
       "      <td>43</td>\n",
       "      <td>57350.00</td>\n",
       "      <td>3</td>\n",
       "      <td>Colleague</td>\n",
       "    </tr>\n",
       "    <tr>\n",
       "      <th>8</th>\n",
       "      <td>9</td>\n",
       "      <td>3</td>\n",
       "      <td>Sabine</td>\n",
       "      <td>49</td>\n",
       "      <td>47200.00</td>\n",
       "      <td>3</td>\n",
       "      <td>Colleague</td>\n",
       "    </tr>\n",
       "    <tr>\n",
       "      <th>9</th>\n",
       "      <td>10</td>\n",
       "      <td>4</td>\n",
       "      <td>Lotte</td>\n",
       "      <td>41</td>\n",
       "      <td>45500.00</td>\n",
       "      <td>4</td>\n",
       "      <td>Neighbor</td>\n",
       "    </tr>\n",
       "    <tr>\n",
       "      <th>10</th>\n",
       "      <td>11</td>\n",
       "      <td>4</td>\n",
       "      <td>Gunter</td>\n",
       "      <td>60</td>\n",
       "      <td>35400.00</td>\n",
       "      <td>4</td>\n",
       "      <td>Neighbor</td>\n",
       "    </tr>\n",
       "    <tr>\n",
       "      <th>11</th>\n",
       "      <td>12</td>\n",
       "      <td>4</td>\n",
       "      <td>Rene</td>\n",
       "      <td>38</td>\n",
       "      <td>51500.00</td>\n",
       "      <td>4</td>\n",
       "      <td>Neighbor</td>\n",
       "    </tr>\n",
       "  </tbody>\n",
       "</table>\n",
       "</div>"
      ],
      "text/plain": [
       "    id  group_id    name  age    salery  id       name\n",
       "0    1         1    Anna   42  45850.75   1     Family\n",
       "1    2         1   Peter   40  42500.00   1     Family\n",
       "2    3         1   Linda   45  55500.50   1     Family\n",
       "3    4         2    Mark   47  35800.00   2     Friend\n",
       "4    5         2  Steffi   38  51367.00   2     Friend\n",
       "5    6         2    Lars   50  57500.50   2     Friend\n",
       "6    7         3   Bernd   50  48000.00   3  Colleague\n",
       "7    8         3   Petra   43  57350.00   3  Colleague\n",
       "8    9         3  Sabine   49  47200.00   3  Colleague\n",
       "9   10         4   Lotte   41  45500.00   4   Neighbor\n",
       "10  11         4  Gunter   60  35400.00   4   Neighbor\n",
       "11  12         4    Rene   38  51500.00   4   Neighbor"
      ]
     },
     "execution_count": 15,
     "metadata": {},
     "output_type": "execute_result"
    }
   ],
   "source": [
    "sql = \"\"\"\n",
    "SELECT *\n",
    "  FROM people \n",
    "  JOIN groups \n",
    "    ON people.group_id=groups.id\"\"\"\n",
    "\n",
    "df_joined = pd.read_sql_query(sql, con)\n",
    "df_joined"
   ]
  },
  {
   "cell_type": "code",
   "execution_count": 16,
   "id": "901494b6-ea4c-41b1-b146-9b640123e3ee",
   "metadata": {},
   "outputs": [],
   "source": [
    "con.close()"
   ]
  },
  {
   "cell_type": "code",
   "execution_count": null,
   "id": "0fcfe59e-1bdf-49cc-a697-963864a5e211",
   "metadata": {},
   "outputs": [],
   "source": []
  }
 ],
 "metadata": {
  "kernelspec": {
   "display_name": "Python 3 (ipykernel)",
   "language": "python",
   "name": "python3"
  },
  "language_info": {
   "codemirror_mode": {
    "name": "ipython",
    "version": 3
   },
   "file_extension": ".py",
   "mimetype": "text/x-python",
   "name": "python",
   "nbconvert_exporter": "python",
   "pygments_lexer": "ipython3",
   "version": "3.12.7"
  }
 },
 "nbformat": 4,
 "nbformat_minor": 5
}
