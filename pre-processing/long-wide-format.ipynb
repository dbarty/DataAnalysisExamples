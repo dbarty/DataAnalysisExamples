{
 "cells": [
  {
   "cell_type": "markdown",
   "id": "901009a7-682f-4ec7-b586-681c700a9fe9",
   "metadata": {},
   "source": [
    "# Long-Wide Format\n",
    "[towardsdatascience.com](https://towardsdatascience.com/long-and-wide-formats-in-data-explained-e48d7c9a06cb)"
   ]
  },
  {
   "cell_type": "markdown",
   "id": "c847d72f-e508-4b0c-bd9f-ba8a185006c5",
   "metadata": {},
   "source": [
    "## Import Modules"
   ]
  },
  {
   "cell_type": "code",
   "execution_count": 1,
   "id": "e25fa09b-0da3-417a-9973-73f408c33169",
   "metadata": {},
   "outputs": [],
   "source": [
    "import pandas as pd"
   ]
  },
  {
   "cell_type": "markdown",
   "id": "398ff398-cf1b-4c41-8c0b-885d497ab462",
   "metadata": {},
   "source": [
    "## Prepare Data"
   ]
  },
  {
   "cell_type": "code",
   "execution_count": 38,
   "id": "1de67b59-5c47-4160-ba74-dd2186fd8b43",
   "metadata": {},
   "outputs": [
    {
     "data": {
      "text/html": [
       "<div>\n",
       "<style scoped>\n",
       "    .dataframe tbody tr th:only-of-type {\n",
       "        vertical-align: middle;\n",
       "    }\n",
       "\n",
       "    .dataframe tbody tr th {\n",
       "        vertical-align: top;\n",
       "    }\n",
       "\n",
       "    .dataframe thead th {\n",
       "        text-align: right;\n",
       "    }\n",
       "</style>\n",
       "<table border=\"1\" class=\"dataframe\">\n",
       "  <thead>\n",
       "    <tr style=\"text-align: right;\">\n",
       "      <th></th>\n",
       "      <th>name</th>\n",
       "      <th>year</th>\n",
       "      <th>height</th>\n",
       "    </tr>\n",
       "  </thead>\n",
       "  <tbody>\n",
       "    <tr>\n",
       "      <th>0</th>\n",
       "      <td>Alice</td>\n",
       "      <td>2020</td>\n",
       "      <td>160</td>\n",
       "    </tr>\n",
       "    <tr>\n",
       "      <th>1</th>\n",
       "      <td>Bob</td>\n",
       "      <td>2020</td>\n",
       "      <td>170</td>\n",
       "    </tr>\n",
       "    <tr>\n",
       "      <th>2</th>\n",
       "      <td>Charlie</td>\n",
       "      <td>2020</td>\n",
       "      <td>165</td>\n",
       "    </tr>\n",
       "    <tr>\n",
       "      <th>3</th>\n",
       "      <td>Alice</td>\n",
       "      <td>2021</td>\n",
       "      <td>162</td>\n",
       "    </tr>\n",
       "    <tr>\n",
       "      <th>4</th>\n",
       "      <td>Bob</td>\n",
       "      <td>2021</td>\n",
       "      <td>172</td>\n",
       "    </tr>\n",
       "    <tr>\n",
       "      <th>5</th>\n",
       "      <td>Charlie</td>\n",
       "      <td>2021</td>\n",
       "      <td>167</td>\n",
       "    </tr>\n",
       "  </tbody>\n",
       "</table>\n",
       "</div>"
      ],
      "text/plain": [
       "      name  year  height\n",
       "0    Alice  2020     160\n",
       "1      Bob  2020     170\n",
       "2  Charlie  2020     165\n",
       "3    Alice  2021     162\n",
       "4      Bob  2021     172\n",
       "5  Charlie  2021     167"
      ]
     },
     "execution_count": 38,
     "metadata": {},
     "output_type": "execute_result"
    }
   ],
   "source": [
    "# data in long format\n",
    "data = {\n",
    "    \"name\": [\"Alice\", \"Bob\", \"Charlie\", \"Alice\", \"Bob\", \"Charlie\"],\n",
    "    \"year\": [2020, 2020, 2020, 2021, 2021, 2021],\n",
    "    \"height\": [160, 170, 165, 162, 172, 167]\n",
    "}\n",
    "\n",
    "df_raw = pd.DataFrame(data_raw)\n",
    "df_raw"
   ]
  },
  {
   "cell_type": "markdown",
   "id": "4401133c-4f72-4147-adb1-7b351a77e238",
   "metadata": {},
   "source": [
    "## Convert \"raw/long\" into \"wide\" format"
   ]
  },
  {
   "cell_type": "code",
   "execution_count": 41,
   "id": "c3c2c7b3-4c07-49fc-bc7d-06d8e99ef9ff",
   "metadata": {},
   "outputs": [
    {
     "data": {
      "text/html": [
       "<div>\n",
       "<style scoped>\n",
       "    .dataframe tbody tr th:only-of-type {\n",
       "        vertical-align: middle;\n",
       "    }\n",
       "\n",
       "    .dataframe tbody tr th {\n",
       "        vertical-align: top;\n",
       "    }\n",
       "\n",
       "    .dataframe thead th {\n",
       "        text-align: right;\n",
       "    }\n",
       "</style>\n",
       "<table border=\"1\" class=\"dataframe\">\n",
       "  <thead>\n",
       "    <tr style=\"text-align: right;\">\n",
       "      <th></th>\n",
       "      <th>name</th>\n",
       "      <th>height_2020</th>\n",
       "      <th>height_2021</th>\n",
       "    </tr>\n",
       "  </thead>\n",
       "  <tbody>\n",
       "    <tr>\n",
       "      <th>0</th>\n",
       "      <td>Alice</td>\n",
       "      <td>160</td>\n",
       "      <td>162</td>\n",
       "    </tr>\n",
       "    <tr>\n",
       "      <th>1</th>\n",
       "      <td>Bob</td>\n",
       "      <td>170</td>\n",
       "      <td>172</td>\n",
       "    </tr>\n",
       "    <tr>\n",
       "      <th>2</th>\n",
       "      <td>Charlie</td>\n",
       "      <td>165</td>\n",
       "      <td>167</td>\n",
       "    </tr>\n",
       "  </tbody>\n",
       "</table>\n",
       "</div>"
      ],
      "text/plain": [
       "      name  height_2020  height_2021\n",
       "0    Alice          160          162\n",
       "1      Bob          170          172\n",
       "2  Charlie          165          167"
      ]
     },
     "execution_count": 41,
     "metadata": {},
     "output_type": "execute_result"
    }
   ],
   "source": [
    "df_long = df_raw.copy()\n",
    "df_long_indexed = df_long.set_index(['name', 'year'])\n",
    "\n",
    "# unstack() to convert the \"year\"-column into single columns per \"year\"-value\n",
    "df_wide = df_long_indexed.unstack(level='year')\n",
    "\n",
    "# rename column names to the \"height_{year}\" schema \n",
    "df_wide.columns = [f'height_{col}' for col in df_wide.columns.get_level_values(1)]\n",
    "\n",
    "# reset the index to flatten the DataFrame\n",
    "df_wide = df_wide.reset_index()\n",
    "\n",
    "df_wide"
   ]
  },
  {
   "cell_type": "markdown",
   "id": "d8ab7b7c-0d11-49d8-9d70-e627c062cb48",
   "metadata": {},
   "source": [
    "Another way using a loop in Python:"
   ]
  },
  {
   "cell_type": "code",
   "execution_count": 21,
   "id": "63a430f8-5503-47dc-8fe1-579a0b8f27b8",
   "metadata": {},
   "outputs": [
    {
     "data": {
      "text/html": [
       "<div>\n",
       "<style scoped>\n",
       "    .dataframe tbody tr th:only-of-type {\n",
       "        vertical-align: middle;\n",
       "    }\n",
       "\n",
       "    .dataframe tbody tr th {\n",
       "        vertical-align: top;\n",
       "    }\n",
       "\n",
       "    .dataframe thead th {\n",
       "        text-align: right;\n",
       "    }\n",
       "</style>\n",
       "<table border=\"1\" class=\"dataframe\">\n",
       "  <thead>\n",
       "    <tr style=\"text-align: right;\">\n",
       "      <th></th>\n",
       "      <th>name</th>\n",
       "      <th>height_2020</th>\n",
       "      <th>height_2021</th>\n",
       "    </tr>\n",
       "  </thead>\n",
       "  <tbody>\n",
       "    <tr>\n",
       "      <th>0</th>\n",
       "      <td>Alice</td>\n",
       "      <td>160</td>\n",
       "      <td>162</td>\n",
       "    </tr>\n",
       "    <tr>\n",
       "      <th>1</th>\n",
       "      <td>Bob</td>\n",
       "      <td>170</td>\n",
       "      <td>172</td>\n",
       "    </tr>\n",
       "    <tr>\n",
       "      <th>2</th>\n",
       "      <td>Charlie</td>\n",
       "      <td>165</td>\n",
       "      <td>167</td>\n",
       "    </tr>\n",
       "  </tbody>\n",
       "</table>\n",
       "</div>"
      ],
      "text/plain": [
       "      name  height_2020  height_2021\n",
       "0    Alice          160          162\n",
       "1      Bob          170          172\n",
       "2  Charlie          165          167"
      ]
     },
     "execution_count": 21,
     "metadata": {},
     "output_type": "execute_result"
    }
   ],
   "source": [
    "# create an empty DataFrame with \"name\" as index\n",
    "df_wide = pd.DataFrame({'name': df_raw['name'].unique()})\n",
    "\n",
    "# loop over \"year\" and create a new column per year\n",
    "for year in df_raw['year'].unique():\n",
    "    # filter for specific \"year\"\n",
    "    df_filtered = df_raw[df_raw['year'] == year][['name', 'height']]\n",
    "    \n",
    "    # adjust column names to the \"height_{year}\" schema\n",
    "    df_filtered = df_filtered.rename(columns={'height': f'height_{year}'})\n",
    "    \n",
    "    # add the filtered colums to \"df_wide\" DataFrame\n",
    "    df_wide = pd.merge(df_wide, df_filtered, on='name', how='left')\n",
    "\n",
    "df_wide"
   ]
  },
  {
   "cell_type": "markdown",
   "id": "07c5aa3a-d127-4040-9ef6-08b461e0628f",
   "metadata": {},
   "source": [
    "## Convert \"raw/long\" into \"wide\" format (Pivot)"
   ]
  },
  {
   "cell_type": "code",
   "execution_count": 17,
   "id": "1950c8f9-6de2-4221-91ee-7396f6fa3e87",
   "metadata": {},
   "outputs": [
    {
     "data": {
      "text/html": [
       "<div>\n",
       "<style scoped>\n",
       "    .dataframe tbody tr th:only-of-type {\n",
       "        vertical-align: middle;\n",
       "    }\n",
       "\n",
       "    .dataframe tbody tr th {\n",
       "        vertical-align: top;\n",
       "    }\n",
       "\n",
       "    .dataframe thead th {\n",
       "        text-align: right;\n",
       "    }\n",
       "</style>\n",
       "<table border=\"1\" class=\"dataframe\">\n",
       "  <thead>\n",
       "    <tr style=\"text-align: right;\">\n",
       "      <th></th>\n",
       "      <th>height_2020</th>\n",
       "      <th>height_2021</th>\n",
       "    </tr>\n",
       "    <tr>\n",
       "      <th>name</th>\n",
       "      <th></th>\n",
       "      <th></th>\n",
       "    </tr>\n",
       "  </thead>\n",
       "  <tbody>\n",
       "    <tr>\n",
       "      <th>Alice</th>\n",
       "      <td>160</td>\n",
       "      <td>162</td>\n",
       "    </tr>\n",
       "    <tr>\n",
       "      <th>Bob</th>\n",
       "      <td>170</td>\n",
       "      <td>172</td>\n",
       "    </tr>\n",
       "    <tr>\n",
       "      <th>Charlie</th>\n",
       "      <td>165</td>\n",
       "      <td>167</td>\n",
       "    </tr>\n",
       "  </tbody>\n",
       "</table>\n",
       "</div>"
      ],
      "text/plain": [
       "         height_2020  height_2021\n",
       "name                             \n",
       "Alice            160          162\n",
       "Bob              170          172\n",
       "Charlie          165          167"
      ]
     },
     "execution_count": 17,
     "metadata": {},
     "output_type": "execute_result"
    }
   ],
   "source": [
    "df_pivot = df_raw.pivot(index='name', columns='year', values='height')\n",
    "df_pivot.columns = ['height_' + str(col) for col in df_pivot.columns]  # rename columns to get the \"height_{year}\" schema\n",
    "df_pivot"
   ]
  },
  {
   "cell_type": "code",
   "execution_count": 35,
   "id": "9ad830fb-b3c4-49b9-8d7d-28f00f5815fd",
   "metadata": {},
   "outputs": [
    {
     "data": {
      "text/html": [
       "<div>\n",
       "<style scoped>\n",
       "    .dataframe tbody tr th:only-of-type {\n",
       "        vertical-align: middle;\n",
       "    }\n",
       "\n",
       "    .dataframe tbody tr th {\n",
       "        vertical-align: top;\n",
       "    }\n",
       "\n",
       "    .dataframe thead th {\n",
       "        text-align: right;\n",
       "    }\n",
       "</style>\n",
       "<table border=\"1\" class=\"dataframe\">\n",
       "  <thead>\n",
       "    <tr style=\"text-align: right;\">\n",
       "      <th></th>\n",
       "      <th>height_2020</th>\n",
       "      <th>height_2021</th>\n",
       "    </tr>\n",
       "    <tr>\n",
       "      <th>name</th>\n",
       "      <th></th>\n",
       "      <th></th>\n",
       "    </tr>\n",
       "  </thead>\n",
       "  <tbody>\n",
       "    <tr>\n",
       "      <th>Alice</th>\n",
       "      <td>160</td>\n",
       "      <td>162</td>\n",
       "    </tr>\n",
       "    <tr>\n",
       "      <th>Bob</th>\n",
       "      <td>170</td>\n",
       "      <td>172</td>\n",
       "    </tr>\n",
       "    <tr>\n",
       "      <th>Charlie</th>\n",
       "      <td>165</td>\n",
       "      <td>167</td>\n",
       "    </tr>\n",
       "  </tbody>\n",
       "</table>\n",
       "</div>"
      ],
      "text/plain": [
       "         height_2020  height_2021\n",
       "name                             \n",
       "Alice            160          162\n",
       "Bob              170          172\n",
       "Charlie          165          167"
      ]
     },
     "execution_count": 35,
     "metadata": {},
     "output_type": "execute_result"
    }
   ],
   "source": [
    "df_flat_pivot = df_pivot.copy()\n",
    "df_flat_pivot.columns = df_flat_pivot.columns.tolist()\n",
    "df_flat_pivot"
   ]
  },
  {
   "cell_type": "markdown",
   "id": "4559b746-b6b8-4f31-becd-d7155450aa58",
   "metadata": {},
   "source": [
    "## Convert \"wide\" into \"raw/long\" format"
   ]
  },
  {
   "cell_type": "code",
   "execution_count": 28,
   "id": "a5e6f806-4c4b-4b6f-bf9a-79979f22996e",
   "metadata": {},
   "outputs": [
    {
     "data": {
      "text/html": [
       "<div>\n",
       "<style scoped>\n",
       "    .dataframe tbody tr th:only-of-type {\n",
       "        vertical-align: middle;\n",
       "    }\n",
       "\n",
       "    .dataframe tbody tr th {\n",
       "        vertical-align: top;\n",
       "    }\n",
       "\n",
       "    .dataframe thead th {\n",
       "        text-align: right;\n",
       "    }\n",
       "</style>\n",
       "<table border=\"1\" class=\"dataframe\">\n",
       "  <thead>\n",
       "    <tr style=\"text-align: right;\">\n",
       "      <th></th>\n",
       "      <th>name</th>\n",
       "      <th>year</th>\n",
       "      <th>height</th>\n",
       "    </tr>\n",
       "  </thead>\n",
       "  <tbody>\n",
       "    <tr>\n",
       "      <th>0</th>\n",
       "      <td>Alice</td>\n",
       "      <td>2020</td>\n",
       "      <td>160</td>\n",
       "    </tr>\n",
       "    <tr>\n",
       "      <th>1</th>\n",
       "      <td>Bob</td>\n",
       "      <td>2020</td>\n",
       "      <td>170</td>\n",
       "    </tr>\n",
       "    <tr>\n",
       "      <th>2</th>\n",
       "      <td>Charlie</td>\n",
       "      <td>2020</td>\n",
       "      <td>165</td>\n",
       "    </tr>\n",
       "    <tr>\n",
       "      <th>3</th>\n",
       "      <td>Alice</td>\n",
       "      <td>2021</td>\n",
       "      <td>162</td>\n",
       "    </tr>\n",
       "    <tr>\n",
       "      <th>4</th>\n",
       "      <td>Bob</td>\n",
       "      <td>2021</td>\n",
       "      <td>172</td>\n",
       "    </tr>\n",
       "    <tr>\n",
       "      <th>5</th>\n",
       "      <td>Charlie</td>\n",
       "      <td>2021</td>\n",
       "      <td>167</td>\n",
       "    </tr>\n",
       "  </tbody>\n",
       "</table>\n",
       "</div>"
      ],
      "text/plain": [
       "      name  year  height\n",
       "0    Alice  2020     160\n",
       "1      Bob  2020     170\n",
       "2  Charlie  2020     165\n",
       "3    Alice  2021     162\n",
       "4      Bob  2021     172\n",
       "5  Charlie  2021     167"
      ]
     },
     "execution_count": 28,
     "metadata": {},
     "output_type": "execute_result"
    }
   ],
   "source": [
    "df_long = pd.melt(df_wide, id_vars='name', var_name='year', value_name='height')\n",
    "df_long['year'] = df_long['year'].str.extract(r'(\\d{4})')\n",
    "df_long"
   ]
  }
 ],
 "metadata": {
  "kernelspec": {
   "display_name": "Python 3 (ipykernel)",
   "language": "python",
   "name": "python3"
  },
  "language_info": {
   "codemirror_mode": {
    "name": "ipython",
    "version": 3
   },
   "file_extension": ".py",
   "mimetype": "text/x-python",
   "name": "python",
   "nbconvert_exporter": "python",
   "pygments_lexer": "ipython3",
   "version": "3.12.7"
  }
 },
 "nbformat": 4,
 "nbformat_minor": 5
}
