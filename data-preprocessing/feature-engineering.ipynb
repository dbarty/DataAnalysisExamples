{
 "cells": [
  {
   "cell_type": "markdown",
   "id": "e604af87-7e56-4448-a5e8-f35b89d7fdcc",
   "metadata": {},
   "source": [
    "# Data Preprocessing: Feature Engineering"
   ]
  },
  {
   "cell_type": "markdown",
   "id": "6c26628d-b58c-4069-93c6-9690bdab4a10",
   "metadata": {},
   "source": [
    "## Import Modules"
   ]
  },
  {
   "cell_type": "code",
   "execution_count": 66,
   "id": "d8febfa9-66aa-432b-9149-a5301b5339e3",
   "metadata": {},
   "outputs": [],
   "source": [
    "import numpy as np\n",
    "import pandas as pd\n",
    "from datetime import datetime"
   ]
  },
  {
   "cell_type": "code",
   "execution_count": 74,
   "id": "6ae66ff9-282d-40de-aa08-55701ed1a445",
   "metadata": {},
   "outputs": [
    {
     "data": {
      "text/html": [
       "<div>\n",
       "<style scoped>\n",
       "    .dataframe tbody tr th:only-of-type {\n",
       "        vertical-align: middle;\n",
       "    }\n",
       "\n",
       "    .dataframe tbody tr th {\n",
       "        vertical-align: top;\n",
       "    }\n",
       "\n",
       "    .dataframe thead th {\n",
       "        text-align: right;\n",
       "    }\n",
       "</style>\n",
       "<table border=\"1\" class=\"dataframe\">\n",
       "  <thead>\n",
       "    <tr style=\"text-align: right;\">\n",
       "      <th></th>\n",
       "      <th>name</th>\n",
       "      <th>day_of_birth</th>\n",
       "      <th>day_of_death</th>\n",
       "      <th>salery</th>\n",
       "    </tr>\n",
       "  </thead>\n",
       "  <tbody>\n",
       "    <tr>\n",
       "      <th>0</th>\n",
       "      <td>Peter</td>\n",
       "      <td>1970-01-12</td>\n",
       "      <td>NaN</td>\n",
       "      <td>55000</td>\n",
       "    </tr>\n",
       "    <tr>\n",
       "      <th>1</th>\n",
       "      <td>Paul</td>\n",
       "      <td>1983-05-05</td>\n",
       "      <td>NaN</td>\n",
       "      <td>43000</td>\n",
       "    </tr>\n",
       "    <tr>\n",
       "      <th>2</th>\n",
       "      <td>Mary</td>\n",
       "      <td>2000-03-17</td>\n",
       "      <td>NaN</td>\n",
       "      <td>52000</td>\n",
       "    </tr>\n",
       "    <tr>\n",
       "      <th>3</th>\n",
       "      <td>Linda</td>\n",
       "      <td>1997-10-13</td>\n",
       "      <td>NaN</td>\n",
       "      <td>83500</td>\n",
       "    </tr>\n",
       "    <tr>\n",
       "      <th>4</th>\n",
       "      <td>Erna</td>\n",
       "      <td>1920-05-13</td>\n",
       "      <td>2008-08-15</td>\n",
       "      <td>0</td>\n",
       "    </tr>\n",
       "  </tbody>\n",
       "</table>\n",
       "</div>"
      ],
      "text/plain": [
       "    name day_of_birth day_of_death  salery\n",
       "0  Peter   1970-01-12          NaN   55000\n",
       "1   Paul   1983-05-05          NaN   43000\n",
       "2   Mary   2000-03-17          NaN   52000\n",
       "3  Linda   1997-10-13          NaN   83500\n",
       "4   Erna   1920-05-13   2008-08-15       0"
      ]
     },
     "execution_count": 74,
     "metadata": {},
     "output_type": "execute_result"
    }
   ],
   "source": [
    "data = {\n",
    "    \"name\": [\"Peter\", \"Paul\", \"Mary\", \"Linda\", \"Erna\"],\n",
    "    \"day_of_birth\": [\"1970-01-12\", \"1983-05-05\", \"2000-03-17\", \"1997-10-13\", \"1920-05-13\"],\n",
    "    \"day_of_death\": [np.nan, np.nan, np.nan, np.nan, \"2008-08-15\"],\n",
    "    \"salery\": [55000, 43000, 52000, 83500, 0]\n",
    "}\n",
    "df = pd.DataFrame(data)\n",
    "df"
   ]
  },
  {
   "cell_type": "markdown",
   "id": "754fef2c-4bc9-4036-8668-590c0a08c5b3",
   "metadata": {},
   "source": [
    "## Set column datatypes"
   ]
  },
  {
   "cell_type": "code",
   "execution_count": 75,
   "id": "4fd79be2-bec7-4056-9f69-25ecf5194284",
   "metadata": {},
   "outputs": [
    {
     "name": "stdout",
     "output_type": "stream",
     "text": [
      "<class 'pandas.core.frame.DataFrame'>\n",
      "RangeIndex: 5 entries, 0 to 4\n",
      "Data columns (total 4 columns):\n",
      " #   Column        Non-Null Count  Dtype         \n",
      "---  ------        --------------  -----         \n",
      " 0   name          5 non-null      object        \n",
      " 1   day_of_birth  5 non-null      datetime64[ns]\n",
      " 2   day_of_death  1 non-null      datetime64[ns]\n",
      " 3   salery        5 non-null      int64         \n",
      "dtypes: datetime64[ns](2), int64(1), object(1)\n",
      "memory usage: 292.0+ bytes\n"
     ]
    }
   ],
   "source": [
    "df[[\"day_of_birth\", \"day_of_death\"]] = df[[\"day_of_birth\", \"day_of_death\"]].apply(pd.to_datetime)\n",
    "df.info()"
   ]
  },
  {
   "cell_type": "markdown",
   "id": "2f0c9f0f-4351-4d8d-9106-b65ae3dae65b",
   "metadata": {},
   "source": [
    "## Calculate age until \"day_of_death\" or today"
   ]
  },
  {
   "cell_type": "code",
   "execution_count": 76,
   "id": "8f6539ec-e3f0-4e24-af1b-a7151cc864cb",
   "metadata": {},
   "outputs": [
    {
     "data": {
      "text/html": [
       "<div>\n",
       "<style scoped>\n",
       "    .dataframe tbody tr th:only-of-type {\n",
       "        vertical-align: middle;\n",
       "    }\n",
       "\n",
       "    .dataframe tbody tr th {\n",
       "        vertical-align: top;\n",
       "    }\n",
       "\n",
       "    .dataframe thead th {\n",
       "        text-align: right;\n",
       "    }\n",
       "</style>\n",
       "<table border=\"1\" class=\"dataframe\">\n",
       "  <thead>\n",
       "    <tr style=\"text-align: right;\">\n",
       "      <th></th>\n",
       "      <th>name</th>\n",
       "      <th>day_of_birth</th>\n",
       "      <th>day_of_death</th>\n",
       "      <th>salery</th>\n",
       "      <th>age</th>\n",
       "    </tr>\n",
       "  </thead>\n",
       "  <tbody>\n",
       "    <tr>\n",
       "      <th>0</th>\n",
       "      <td>Peter</td>\n",
       "      <td>1970-01-12</td>\n",
       "      <td>NaT</td>\n",
       "      <td>55000</td>\n",
       "      <td>54</td>\n",
       "    </tr>\n",
       "    <tr>\n",
       "      <th>1</th>\n",
       "      <td>Paul</td>\n",
       "      <td>1983-05-05</td>\n",
       "      <td>NaT</td>\n",
       "      <td>43000</td>\n",
       "      <td>41</td>\n",
       "    </tr>\n",
       "    <tr>\n",
       "      <th>2</th>\n",
       "      <td>Mary</td>\n",
       "      <td>2000-03-17</td>\n",
       "      <td>NaT</td>\n",
       "      <td>52000</td>\n",
       "      <td>24</td>\n",
       "    </tr>\n",
       "    <tr>\n",
       "      <th>3</th>\n",
       "      <td>Linda</td>\n",
       "      <td>1997-10-13</td>\n",
       "      <td>NaT</td>\n",
       "      <td>83500</td>\n",
       "      <td>27</td>\n",
       "    </tr>\n",
       "    <tr>\n",
       "      <th>4</th>\n",
       "      <td>Erna</td>\n",
       "      <td>1920-05-13</td>\n",
       "      <td>2008-08-15</td>\n",
       "      <td>0</td>\n",
       "      <td>88</td>\n",
       "    </tr>\n",
       "  </tbody>\n",
       "</table>\n",
       "</div>"
      ],
      "text/plain": [
       "    name day_of_birth day_of_death  salery  age\n",
       "0  Peter   1970-01-12          NaT   55000   54\n",
       "1   Paul   1983-05-05          NaT   43000   41\n",
       "2   Mary   2000-03-17          NaT   52000   24\n",
       "3  Linda   1997-10-13          NaT   83500   27\n",
       "4   Erna   1920-05-13   2008-08-15       0   88"
      ]
     },
     "execution_count": 76,
     "metadata": {},
     "output_type": "execute_result"
    }
   ],
   "source": [
    "today = pd.to_datetime(datetime.today().strftime(\"%Y-%m-%d\"))\n",
    "df[\"age\"] = ((df[\"day_of_death\"].fillna(today) - df[\"day_of_birth\"]).dt.days / 365.25).astype(int)\n",
    "df"
   ]
  },
  {
   "cell_type": "markdown",
   "id": "c9f7b056-9bea-49b9-a458-bf9f863bf6fb",
   "metadata": {},
   "source": [
    "## Guess a value with a callback\n",
    "Attention! The callback function is written in Python and probably it'll slow down the process on big data! "
   ]
  },
  {
   "cell_type": "code",
   "execution_count": 79,
   "id": "6e6989a0-9bcb-4b49-b23a-a2aacc45f302",
   "metadata": {},
   "outputs": [
    {
     "data": {
      "text/html": [
       "<div>\n",
       "<style scoped>\n",
       "    .dataframe tbody tr th:only-of-type {\n",
       "        vertical-align: middle;\n",
       "    }\n",
       "\n",
       "    .dataframe tbody tr th {\n",
       "        vertical-align: top;\n",
       "    }\n",
       "\n",
       "    .dataframe thead th {\n",
       "        text-align: right;\n",
       "    }\n",
       "</style>\n",
       "<table border=\"1\" class=\"dataframe\">\n",
       "  <thead>\n",
       "    <tr style=\"text-align: right;\">\n",
       "      <th></th>\n",
       "      <th>name</th>\n",
       "      <th>day_of_birth</th>\n",
       "      <th>day_of_death</th>\n",
       "      <th>salery</th>\n",
       "      <th>age</th>\n",
       "      <th>sex</th>\n",
       "    </tr>\n",
       "  </thead>\n",
       "  <tbody>\n",
       "    <tr>\n",
       "      <th>0</th>\n",
       "      <td>Peter</td>\n",
       "      <td>1970-01-12</td>\n",
       "      <td>NaT</td>\n",
       "      <td>55000</td>\n",
       "      <td>54</td>\n",
       "      <td>male</td>\n",
       "    </tr>\n",
       "    <tr>\n",
       "      <th>1</th>\n",
       "      <td>Paul</td>\n",
       "      <td>1983-05-05</td>\n",
       "      <td>NaT</td>\n",
       "      <td>43000</td>\n",
       "      <td>41</td>\n",
       "      <td>male</td>\n",
       "    </tr>\n",
       "    <tr>\n",
       "      <th>2</th>\n",
       "      <td>Mary</td>\n",
       "      <td>2000-03-17</td>\n",
       "      <td>NaT</td>\n",
       "      <td>52000</td>\n",
       "      <td>24</td>\n",
       "      <td>female</td>\n",
       "    </tr>\n",
       "    <tr>\n",
       "      <th>3</th>\n",
       "      <td>Linda</td>\n",
       "      <td>1997-10-13</td>\n",
       "      <td>NaT</td>\n",
       "      <td>83500</td>\n",
       "      <td>27</td>\n",
       "      <td>female</td>\n",
       "    </tr>\n",
       "    <tr>\n",
       "      <th>4</th>\n",
       "      <td>Erna</td>\n",
       "      <td>1920-05-13</td>\n",
       "      <td>2008-08-15</td>\n",
       "      <td>0</td>\n",
       "      <td>88</td>\n",
       "      <td>female</td>\n",
       "    </tr>\n",
       "  </tbody>\n",
       "</table>\n",
       "</div>"
      ],
      "text/plain": [
       "    name day_of_birth day_of_death  salery  age     sex\n",
       "0  Peter   1970-01-12          NaT   55000   54    male\n",
       "1   Paul   1983-05-05          NaT   43000   41    male\n",
       "2   Mary   2000-03-17          NaT   52000   24  female\n",
       "3  Linda   1997-10-13          NaT   83500   27  female\n",
       "4   Erna   1920-05-13   2008-08-15       0   88  female"
      ]
     },
     "execution_count": 79,
     "metadata": {},
     "output_type": "execute_result"
    }
   ],
   "source": [
    "def sex_guesser(v):\n",
    "    di = {\n",
    "        \"Peter\": \"male\",\n",
    "        \"Paul\": \"male\",\n",
    "        \"Mary\": \"female\",\n",
    "        \"Linda\": \"female\",\n",
    "        \"Erna\": \"female\"\n",
    "    }\n",
    "    return di.get(v, np.nan)\n",
    "\n",
    "df[\"sex\"] = df[[\"name\"]].map(sex_guesser)\n",
    "df"
   ]
  }
 ],
 "metadata": {
  "kernelspec": {
   "display_name": "Python 3 (ipykernel)",
   "language": "python",
   "name": "python3"
  },
  "language_info": {
   "codemirror_mode": {
    "name": "ipython",
    "version": 3
   },
   "file_extension": ".py",
   "mimetype": "text/x-python",
   "name": "python",
   "nbconvert_exporter": "python",
   "pygments_lexer": "ipython3",
   "version": "3.12.7"
  }
 },
 "nbformat": 4,
 "nbformat_minor": 5
}
